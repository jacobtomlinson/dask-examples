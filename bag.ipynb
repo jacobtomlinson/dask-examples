{
 "cells": [
  {
   "cell_type": "markdown",
   "metadata": {},
   "source": [
    "# Dask Bags\n",
    "\n",
    "\n",
    "Dask Bag implements operations like `map`, `filter`, `groupby` and aggregations on collections of Python objects. It does this in parallel and in small memory using Python iterators. It is similar to a parallel version of itertools or a Pythonic version of the PySpark RDD.\n",
    "\n",
    "Dask Bags are often used to do simple preprocessing on log files, JSON records, or other user defined Python objects.\n",
    "\n",
    "Full API documentation is available here: http://docs.dask.org/en/latest/bag-api.html"
   ]
  },
  {
   "cell_type": "markdown",
   "metadata": {},
   "source": [
    "## Start Dask Client for Dashboard\n",
    "\n",
    "Starting the Dask Client is optional.  It will provide a dashboard which \n",
    "is useful to gain insight on the computation.  \n",
    "\n",
    "The link to the dashboard will become visible when you create the client below.  We recommend having it open on one side of your screen while using your notebook on the other side.  This can take some effort to arrange your windows, but seeing them both at the same is very useful when learning."
   ]
  },
  {
   "cell_type": "code",
   "execution_count": 1,
   "metadata": {
    "execution": {
     "iopub.execute_input": "2020-11-05T11:11:05.530727Z",
     "iopub.status.busy": "2020-11-05T11:11:05.530266Z",
     "iopub.status.idle": "2020-11-05T11:11:07.551296Z",
     "shell.execute_reply": "2020-11-05T11:11:07.550559Z"
    }
   },
   "outputs": [
    {
     "data": {
      "text/html": [
       "<table style=\"border: 2px solid white;\">\n",
       "<tr>\n",
       "<td style=\"vertical-align: top; border: 0px solid white\">\n",
       "<h3 style=\"text-align: left;\">Client</h3>\n",
       "<ul style=\"text-align: left; list-style: none; margin: 0; padding: 0;\">\n",
       "  <li><b>Scheduler: </b>tcp://127.0.0.1:45375</li>\n",
       "  <li><b>Dashboard: </b><a href='http://127.0.0.1:8787/status' target='_blank'>http://127.0.0.1:8787/status</a></li>\n",
       "</ul>\n",
       "</td>\n",
       "<td style=\"vertical-align: top; border: 0px solid white\">\n",
       "<h3 style=\"text-align: left;\">Cluster</h3>\n",
       "<ul style=\"text-align: left; list-style:none; margin: 0; padding: 0;\">\n",
       "  <li><b>Workers: </b>4</li>\n",
       "  <li><b>Cores: </b>4</li>\n",
       "  <li><b>Memory: </b>7.29 GB</li>\n",
       "</ul>\n",
       "</td>\n",
       "</tr>\n",
       "</table>"
      ],
      "text/plain": [
       "<Client: 'tcp://127.0.0.1:45375' processes=4 threads=4, memory=7.29 GB>"
      ]
     },
     "execution_count": 1,
     "metadata": {},
     "output_type": "execute_result"
    }
   ],
   "source": [
    "from dask.distributed import Client, progress\n",
    "client = Client(n_workers=4, threads_per_worker=1)\n",
    "client"
   ]
  },
  {
   "cell_type": "markdown",
   "metadata": {},
   "source": [
    "## Create Random Data\n",
    "\n",
    "We create a random set of record data and store it to disk as many JSON files.  This will serve as our data for this notebook."
   ]
  },
  {
   "cell_type": "code",
   "execution_count": 2,
   "metadata": {
    "execution": {
     "iopub.execute_input": "2020-11-05T11:11:07.555470Z",
     "iopub.status.busy": "2020-11-05T11:11:07.554983Z",
     "iopub.status.idle": "2020-11-05T11:11:08.448061Z",
     "shell.execute_reply": "2020-11-05T11:11:08.447355Z"
    }
   },
   "outputs": [
    {
     "data": {
      "text/plain": [
       "['/home/runner/work/dask-examples/dask-examples/data/0.json',\n",
       " '/home/runner/work/dask-examples/dask-examples/data/1.json',\n",
       " '/home/runner/work/dask-examples/dask-examples/data/2.json',\n",
       " '/home/runner/work/dask-examples/dask-examples/data/3.json',\n",
       " '/home/runner/work/dask-examples/dask-examples/data/4.json',\n",
       " '/home/runner/work/dask-examples/dask-examples/data/5.json',\n",
       " '/home/runner/work/dask-examples/dask-examples/data/6.json',\n",
       " '/home/runner/work/dask-examples/dask-examples/data/7.json',\n",
       " '/home/runner/work/dask-examples/dask-examples/data/8.json',\n",
       " '/home/runner/work/dask-examples/dask-examples/data/9.json']"
      ]
     },
     "execution_count": 1,
     "metadata": {},
     "output_type": "execute_result"
    }
   ],
   "source": [
    "import dask\n",
    "import json\n",
    "import os\n",
    "\n",
    "os.makedirs('data', exist_ok=True)              # Create data/ directory\n",
    "\n",
    "b = dask.datasets.make_people()                 # Make records of people\n",
    "b.map(json.dumps).to_textfiles('data/*.json')   # Encode as JSON, write to disk"
   ]
  },
  {
   "cell_type": "markdown",
   "metadata": {},
   "source": [
    "## Read JSON data\n",
    "\n",
    "Now that we have some JSON data in a file lets take a look at it with Dask Bag and Python JSON module."
   ]
  },
  {
   "cell_type": "code",
   "execution_count": 3,
   "metadata": {
    "execution": {
     "iopub.execute_input": "2020-11-05T11:11:08.453281Z",
     "iopub.status.busy": "2020-11-05T11:11:08.451900Z",
     "iopub.status.idle": "2020-11-05T11:11:08.619333Z",
     "shell.execute_reply": "2020-11-05T11:11:08.618763Z"
    }
   },
   "outputs": [
    {
     "name": "stdout",
     "output_type": "stream",
     "text": [
      "{\"age\": 44, \"name\": [\"Tyrell\", \"Haynes\"], \"occupation\": \"Garage Manager\", \"telephone\": \"371.742.8566\", \"address\": {\"address\": \"916 Rudden Promenade\", \"city\": \"Cicero\"}, \"credit-card\": {\"number\": \"4889 7862 0763 3746\", \"expiration-date\": \"07/24\"}}\r\n",
      "{\"age\": 17, \"name\": [\"Ken\", \"Black\"], \"occupation\": \"Produce Supervisor\", \"telephone\": \"(626) 488-3523\", \"address\": {\"address\": \"124 San Jose Promenade\", \"city\": \"Topeka\"}, \"credit-card\": {\"number\": \"3480 451571 44995\", \"expiration-date\": \"08/25\"}}\r\n"
     ]
    }
   ],
   "source": [
    "!head -n 2 data/0.json"
   ]
  },
  {
   "cell_type": "code",
   "execution_count": 4,
   "metadata": {
    "execution": {
     "iopub.execute_input": "2020-11-05T11:11:08.624540Z",
     "iopub.status.busy": "2020-11-05T11:11:08.624064Z",
     "iopub.status.idle": "2020-11-05T11:11:08.632010Z",
     "shell.execute_reply": "2020-11-05T11:11:08.631479Z"
    }
   },
   "outputs": [
    {
     "data": {
      "text/plain": [
       "dask.bag<loads, npartitions=10>"
      ]
     },
     "execution_count": 1,
     "metadata": {},
     "output_type": "execute_result"
    }
   ],
   "source": [
    "import dask.bag as db\n",
    "import json\n",
    "\n",
    "b = db.read_text('data/*.json').map(json.loads)\n",
    "b"
   ]
  },
  {
   "cell_type": "code",
   "execution_count": 5,
   "metadata": {
    "execution": {
     "iopub.execute_input": "2020-11-05T11:11:08.639901Z",
     "iopub.status.busy": "2020-11-05T11:11:08.636692Z",
     "iopub.status.idle": "2020-11-05T11:11:08.657359Z",
     "shell.execute_reply": "2020-11-05T11:11:08.656925Z"
    }
   },
   "outputs": [
    {
     "data": {
      "text/plain": [
       "({'age': 44,\n",
       "  'name': ['Tyrell', 'Haynes'],\n",
       "  'occupation': 'Garage Manager',\n",
       "  'telephone': '371.742.8566',\n",
       "  'address': {'address': '916 Rudden Promenade', 'city': 'Cicero'},\n",
       "  'credit-card': {'number': '4889 7862 0763 3746',\n",
       "   'expiration-date': '07/24'}},\n",
       " {'age': 17,\n",
       "  'name': ['Ken', 'Black'],\n",
       "  'occupation': 'Produce Supervisor',\n",
       "  'telephone': '(626) 488-3523',\n",
       "  'address': {'address': '124 San Jose Promenade', 'city': 'Topeka'},\n",
       "  'credit-card': {'number': '3480 451571 44995', 'expiration-date': '08/25'}})"
      ]
     },
     "execution_count": 1,
     "metadata": {},
     "output_type": "execute_result"
    }
   ],
   "source": [
    "b.take(2)"
   ]
  },
  {
   "cell_type": "markdown",
   "metadata": {},
   "source": [
    "## Map, Filter, Aggregate\n",
    "\n",
    "We can process this data by filtering out only certain records of interest, mapping functions over it to process our data, and aggregating those results to a total value."
   ]
  },
  {
   "cell_type": "code",
   "execution_count": 6,
   "metadata": {
    "execution": {
     "iopub.execute_input": "2020-11-05T11:11:08.662423Z",
     "iopub.status.busy": "2020-11-05T11:11:08.661585Z",
     "iopub.status.idle": "2020-11-05T11:11:08.679360Z",
     "shell.execute_reply": "2020-11-05T11:11:08.678605Z"
    }
   },
   "outputs": [
    {
     "data": {
      "text/plain": [
       "({'age': 44,\n",
       "  'name': ['Tyrell', 'Haynes'],\n",
       "  'occupation': 'Garage Manager',\n",
       "  'telephone': '371.742.8566',\n",
       "  'address': {'address': '916 Rudden Promenade', 'city': 'Cicero'},\n",
       "  'credit-card': {'number': '4889 7862 0763 3746',\n",
       "   'expiration-date': '07/24'}},\n",
       " {'age': 50,\n",
       "  'name': ['Sherrell', 'Conley'],\n",
       "  'occupation': 'Paint Consultant',\n",
       "  'telephone': '022.297.4668',\n",
       "  'address': {'address': '390 H Run', 'city': 'Franklin Park'},\n",
       "  'credit-card': {'number': '4722 9635 5891 7348',\n",
       "   'expiration-date': '07/19'}})"
      ]
     },
     "execution_count": 1,
     "metadata": {},
     "output_type": "execute_result"
    }
   ],
   "source": [
    "b.filter(lambda record: record['age'] > 30).take(2)  # Select only people over 30"
   ]
  },
  {
   "cell_type": "code",
   "execution_count": 7,
   "metadata": {
    "execution": {
     "iopub.execute_input": "2020-11-05T11:11:08.684394Z",
     "iopub.status.busy": "2020-11-05T11:11:08.683722Z",
     "iopub.status.idle": "2020-11-05T11:11:08.701507Z",
     "shell.execute_reply": "2020-11-05T11:11:08.700989Z"
    }
   },
   "outputs": [
    {
     "data": {
      "text/plain": [
       "('Garage Manager', 'Produce Supervisor')"
      ]
     },
     "execution_count": 1,
     "metadata": {},
     "output_type": "execute_result"
    }
   ],
   "source": [
    "b.map(lambda record: record['occupation']).take(2)  # Select the occupation field"
   ]
  },
  {
   "cell_type": "code",
   "execution_count": 8,
   "metadata": {
    "execution": {
     "iopub.execute_input": "2020-11-05T11:11:08.708839Z",
     "iopub.status.busy": "2020-11-05T11:11:08.708347Z",
     "iopub.status.idle": "2020-11-05T11:11:08.816340Z",
     "shell.execute_reply": "2020-11-05T11:11:08.815577Z"
    }
   },
   "outputs": [
    {
     "data": {
      "text/plain": [
       "10000"
      ]
     },
     "execution_count": 1,
     "metadata": {},
     "output_type": "execute_result"
    }
   ],
   "source": [
    "b.count().compute()  # Count total number of records"
   ]
  },
  {
   "cell_type": "markdown",
   "metadata": {},
   "source": [
    "## Chain computations\n",
    "\n",
    "It is common to do many of these steps in one pipeline, only calling `compute` or `take` at the end."
   ]
  },
  {
   "cell_type": "code",
   "execution_count": 9,
   "metadata": {
    "execution": {
     "iopub.execute_input": "2020-11-05T11:11:08.821627Z",
     "iopub.status.busy": "2020-11-05T11:11:08.821130Z",
     "iopub.status.idle": "2020-11-05T11:11:08.825215Z",
     "shell.execute_reply": "2020-11-05T11:11:08.825747Z"
    }
   },
   "outputs": [
    {
     "data": {
      "text/plain": [
       "dask.bag<topk-aggregate, npartitions=1>"
      ]
     },
     "execution_count": 1,
     "metadata": {},
     "output_type": "execute_result"
    }
   ],
   "source": [
    "result = (b.filter(lambda record: record['age'] > 30)\n",
    "           .map(lambda record: record['occupation'])\n",
    "           .frequencies(sort=True)\n",
    "           .topk(10, key=1))\n",
    "result"
   ]
  },
  {
   "cell_type": "markdown",
   "metadata": {},
   "source": [
    "As with all lazy Dask collections, we need to call `compute` to actually evaluate our result.  The `take` method used in earlier examples is also like `compute` and will also trigger computation."
   ]
  },
  {
   "cell_type": "code",
   "execution_count": 10,
   "metadata": {
    "execution": {
     "iopub.execute_input": "2020-11-05T11:11:08.829124Z",
     "iopub.status.busy": "2020-11-05T11:11:08.828626Z",
     "iopub.status.idle": "2020-11-05T11:11:08.952893Z",
     "shell.execute_reply": "2020-11-05T11:11:08.952413Z"
    }
   },
   "outputs": [
    {
     "data": {
      "text/plain": [
       "[('Jewellery', 17),\n",
       " ('Airport Controller', 16),\n",
       " ('Tank Farm Operative', 14),\n",
       " ('Kennel Hand', 14),\n",
       " ('Sheriff', 13),\n",
       " ('Licensing', 13),\n",
       " ('Marine Broker', 13),\n",
       " ('Blind Fitter', 13),\n",
       " ('Operations', 13),\n",
       " ('Radiologist', 13)]"
      ]
     },
     "execution_count": 1,
     "metadata": {},
     "output_type": "execute_result"
    }
   ],
   "source": [
    "result.compute()"
   ]
  },
  {
   "cell_type": "markdown",
   "metadata": {},
   "source": [
    "## Transform and Store\n",
    "\n",
    "Sometimes we want to compute aggregations as above, but sometimes we want to store results to disk for future analyses.  For that we can use methods like `to_textfiles` and `json.dumps`, or we can convert to Dask Dataframes and use their storage systems, which we'll see more of in the next section."
   ]
  },
  {
   "cell_type": "code",
   "execution_count": 11,
   "metadata": {
    "execution": {
     "iopub.execute_input": "2020-11-05T11:11:08.963739Z",
     "iopub.status.busy": "2020-11-05T11:11:08.963253Z",
     "iopub.status.idle": "2020-11-05T11:11:09.088812Z",
     "shell.execute_reply": "2020-11-05T11:11:09.089543Z"
    }
   },
   "outputs": [
    {
     "data": {
      "text/plain": [
       "['/home/runner/work/dask-examples/dask-examples/data/processed.0.json',\n",
       " '/home/runner/work/dask-examples/dask-examples/data/processed.1.json',\n",
       " '/home/runner/work/dask-examples/dask-examples/data/processed.2.json',\n",
       " '/home/runner/work/dask-examples/dask-examples/data/processed.3.json',\n",
       " '/home/runner/work/dask-examples/dask-examples/data/processed.4.json',\n",
       " '/home/runner/work/dask-examples/dask-examples/data/processed.5.json',\n",
       " '/home/runner/work/dask-examples/dask-examples/data/processed.6.json',\n",
       " '/home/runner/work/dask-examples/dask-examples/data/processed.7.json',\n",
       " '/home/runner/work/dask-examples/dask-examples/data/processed.8.json',\n",
       " '/home/runner/work/dask-examples/dask-examples/data/processed.9.json']"
      ]
     },
     "execution_count": 1,
     "metadata": {},
     "output_type": "execute_result"
    }
   ],
   "source": [
    "(b.filter(lambda record: record['age'] > 30)  # Select records of interest\n",
    "  .map(json.dumps)                            # Convert Python objects to text\n",
    "  .to_textfiles('data/processed.*.json'))     # Write to local disk"
   ]
  },
  {
   "cell_type": "markdown",
   "metadata": {},
   "source": [
    "## Convert to Dask Dataframes\n",
    "\n",
    "Dask Bags are good for reading in initial data, doing a bit of pre-processing, and then handing off to some other more efficient form like Dask Dataframes.  Dask Dataframes use Pandas internally, and so can be much faster on numeric data and also have more complex algorithms.  \n",
    "\n",
    "However, Dask Dataframes also expect data that is organized as flat columns.  It does not support nested JSON data very well (Bag is better for this).\n",
    "\n",
    "Here we make a function to flatten down our nested data structure, map that across our records, and then convert that to a Dask Dataframe."
   ]
  },
  {
   "cell_type": "code",
   "execution_count": 12,
   "metadata": {
    "execution": {
     "iopub.execute_input": "2020-11-05T11:11:09.094569Z",
     "iopub.status.busy": "2020-11-05T11:11:09.093494Z",
     "iopub.status.idle": "2020-11-05T11:11:09.109589Z",
     "shell.execute_reply": "2020-11-05T11:11:09.109972Z"
    }
   },
   "outputs": [
    {
     "data": {
      "text/plain": [
       "({'age': 44,\n",
       "  'name': ['Tyrell', 'Haynes'],\n",
       "  'occupation': 'Garage Manager',\n",
       "  'telephone': '371.742.8566',\n",
       "  'address': {'address': '916 Rudden Promenade', 'city': 'Cicero'},\n",
       "  'credit-card': {'number': '4889 7862 0763 3746',\n",
       "   'expiration-date': '07/24'}},)"
      ]
     },
     "execution_count": 1,
     "metadata": {},
     "output_type": "execute_result"
    }
   ],
   "source": [
    "b.take(1)"
   ]
  },
  {
   "cell_type": "code",
   "execution_count": 13,
   "metadata": {
    "execution": {
     "iopub.execute_input": "2020-11-05T11:11:09.115565Z",
     "iopub.status.busy": "2020-11-05T11:11:09.115075Z",
     "iopub.status.idle": "2020-11-05T11:11:09.133757Z",
     "shell.execute_reply": "2020-11-05T11:11:09.133153Z"
    }
   },
   "outputs": [
    {
     "data": {
      "text/plain": [
       "({'age': 44,\n",
       "  'occupation': 'Garage Manager',\n",
       "  'telephone': '371.742.8566',\n",
       "  'credit-card-number': '4889 7862 0763 3746',\n",
       "  'credit-card-expiration': '07/24',\n",
       "  'name': 'Tyrell Haynes',\n",
       "  'street-address': '916 Rudden Promenade',\n",
       "  'city': 'Cicero'},)"
      ]
     },
     "execution_count": 1,
     "metadata": {},
     "output_type": "execute_result"
    }
   ],
   "source": [
    "def flatten(record):\n",
    "    return {\n",
    "        'age': record['age'],\n",
    "        'occupation': record['occupation'],\n",
    "        'telephone': record['telephone'],\n",
    "        'credit-card-number': record['credit-card']['number'],\n",
    "        'credit-card-expiration': record['credit-card']['expiration-date'],\n",
    "        'name': ' '.join(record['name']),\n",
    "        'street-address': record['address']['address'],\n",
    "        'city': record['address']['city']   \n",
    "    }\n",
    "\n",
    "b.map(flatten).take(1)"
   ]
  },
  {
   "cell_type": "code",
   "execution_count": 14,
   "metadata": {
    "execution": {
     "iopub.execute_input": "2020-11-05T11:11:09.137920Z",
     "iopub.status.busy": "2020-11-05T11:11:09.135942Z",
     "iopub.status.idle": "2020-11-05T11:11:09.729272Z",
     "shell.execute_reply": "2020-11-05T11:11:09.728489Z"
    }
   },
   "outputs": [
    {
     "data": {
      "text/html": [
       "<div>\n",
       "<style scoped>\n",
       "    .dataframe tbody tr th:only-of-type {\n",
       "        vertical-align: middle;\n",
       "    }\n",
       "\n",
       "    .dataframe tbody tr th {\n",
       "        vertical-align: top;\n",
       "    }\n",
       "\n",
       "    .dataframe thead th {\n",
       "        text-align: right;\n",
       "    }\n",
       "</style>\n",
       "<table border=\"1\" class=\"dataframe\">\n",
       "  <thead>\n",
       "    <tr style=\"text-align: right;\">\n",
       "      <th></th>\n",
       "      <th>age</th>\n",
       "      <th>occupation</th>\n",
       "      <th>telephone</th>\n",
       "      <th>credit-card-number</th>\n",
       "      <th>credit-card-expiration</th>\n",
       "      <th>name</th>\n",
       "      <th>street-address</th>\n",
       "      <th>city</th>\n",
       "    </tr>\n",
       "  </thead>\n",
       "  <tbody>\n",
       "    <tr>\n",
       "      <th>0</th>\n",
       "      <td>44</td>\n",
       "      <td>Garage Manager</td>\n",
       "      <td>371.742.8566</td>\n",
       "      <td>4889 7862 0763 3746</td>\n",
       "      <td>07/24</td>\n",
       "      <td>Tyrell Haynes</td>\n",
       "      <td>916 Rudden Promenade</td>\n",
       "      <td>Cicero</td>\n",
       "    </tr>\n",
       "    <tr>\n",
       "      <th>1</th>\n",
       "      <td>17</td>\n",
       "      <td>Produce Supervisor</td>\n",
       "      <td>(626) 488-3523</td>\n",
       "      <td>3480 451571 44995</td>\n",
       "      <td>08/25</td>\n",
       "      <td>Ken Black</td>\n",
       "      <td>124 San Jose Promenade</td>\n",
       "      <td>Topeka</td>\n",
       "    </tr>\n",
       "    <tr>\n",
       "      <th>2</th>\n",
       "      <td>50</td>\n",
       "      <td>Paint Consultant</td>\n",
       "      <td>022.297.4668</td>\n",
       "      <td>4722 9635 5891 7348</td>\n",
       "      <td>07/19</td>\n",
       "      <td>Sherrell Conley</td>\n",
       "      <td>390 H Run</td>\n",
       "      <td>Franklin Park</td>\n",
       "    </tr>\n",
       "    <tr>\n",
       "      <th>3</th>\n",
       "      <td>38</td>\n",
       "      <td>Shepherd</td>\n",
       "      <td>(635) 687-9625</td>\n",
       "      <td>2579 4377 5559 5825</td>\n",
       "      <td>07/16</td>\n",
       "      <td>Sidney Caldwell</td>\n",
       "      <td>835 Vulcan Close</td>\n",
       "      <td>Romulus</td>\n",
       "    </tr>\n",
       "    <tr>\n",
       "      <th>4</th>\n",
       "      <td>46</td>\n",
       "      <td>Loss Assessor</td>\n",
       "      <td>1-973-170-2105</td>\n",
       "      <td>3776 993257 43833</td>\n",
       "      <td>08/16</td>\n",
       "      <td>Phung Fernandez</td>\n",
       "      <td>1070 Atalaya Mall</td>\n",
       "      <td>Rapid City</td>\n",
       "    </tr>\n",
       "  </tbody>\n",
       "</table>\n",
       "</div>"
      ],
      "text/plain": [
       "   age          occupation       telephone   credit-card-number  \\\n",
       "0   44      Garage Manager    371.742.8566  4889 7862 0763 3746   \n",
       "1   17  Produce Supervisor  (626) 488-3523    3480 451571 44995   \n",
       "2   50    Paint Consultant    022.297.4668  4722 9635 5891 7348   \n",
       "3   38            Shepherd  (635) 687-9625  2579 4377 5559 5825   \n",
       "4   46       Loss Assessor  1-973-170-2105    3776 993257 43833   \n",
       "\n",
       "  credit-card-expiration             name          street-address  \\\n",
       "0                  07/24    Tyrell Haynes    916 Rudden Promenade   \n",
       "1                  08/25        Ken Black  124 San Jose Promenade   \n",
       "2                  07/19  Sherrell Conley               390 H Run   \n",
       "3                  07/16  Sidney Caldwell        835 Vulcan Close   \n",
       "4                  08/16  Phung Fernandez       1070 Atalaya Mall   \n",
       "\n",
       "            city  \n",
       "0         Cicero  \n",
       "1         Topeka  \n",
       "2  Franklin Park  \n",
       "3        Romulus  \n",
       "4     Rapid City  "
      ]
     },
     "execution_count": 1,
     "metadata": {},
     "output_type": "execute_result"
    }
   ],
   "source": [
    "df = b.map(flatten).to_dataframe()\n",
    "df.head()"
   ]
  },
  {
   "cell_type": "markdown",
   "metadata": {},
   "source": [
    "We can now perform the same computation as before, but now using Pandas and Dask dataframe."
   ]
  },
  {
   "cell_type": "code",
   "execution_count": 15,
   "metadata": {
    "execution": {
     "iopub.execute_input": "2020-11-05T11:11:09.744130Z",
     "iopub.status.busy": "2020-11-05T11:11:09.740129Z",
     "iopub.status.idle": "2020-11-05T11:11:10.493153Z",
     "shell.execute_reply": "2020-11-05T11:11:10.493550Z"
    }
   },
   "outputs": [
    {
     "data": {
      "text/plain": [
       "Jewellery              17\n",
       "Airport Controller     16\n",
       "Tank Farm Operative    14\n",
       "Kennel Hand            14\n",
       "Sheriff                13\n",
       "Blind Fitter           13\n",
       "IT Consultant          13\n",
       "Operations             13\n",
       "Radiologist            13\n",
       "Licensing              13\n",
       "Name: occupation, dtype: int64"
      ]
     },
     "execution_count": 1,
     "metadata": {},
     "output_type": "execute_result"
    }
   ],
   "source": [
    "df[df.age > 30].occupation.value_counts().nlargest(10).compute()"
   ]
  },
  {
   "cell_type": "markdown",
   "metadata": {},
   "source": [
    "## Learn More\n",
    "\n",
    "You may be interested in the following links:\n",
    "\n",
    "-  [Dask Bag Documentation](https://docs.dask.org/en/latest/bag.html)\n",
    "-  [API Documentation](http://docs.dask.org/en/latest/bag-api.html)\n",
    "-  [dask tutorial](https://github.com/dask/dask-tutorial), notebook 02, for a more in-depth introduction."
   ]
  }
 ],
 "metadata": {
  "kernelspec": {
   "display_name": "Python 3",
   "language": "python",
   "name": "python3"
  },
  "language_info": {
   "codemirror_mode": {
    "name": "ipython",
    "version": 3
   },
   "file_extension": ".py",
   "mimetype": "text/x-python",
   "name": "python",
   "nbconvert_exporter": "python",
   "pygments_lexer": "ipython3",
   "version": "3.8.6"
  }
 },
 "nbformat": 4,
 "nbformat_minor": 2
}
