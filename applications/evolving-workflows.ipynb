{
 "cells": [
  {
   "cell_type": "markdown",
   "metadata": {},
   "source": [
    "Handle Evolving Workflows\n",
    "=========================\n",
    "\n",
    "For some workflows we don't know the extent of the computation at the outset.  We need to do some computation in order to figure out the rest of the computation that we need to do.  The computation grows and evolves as we do more work.\n",
    "\n",
    "As an example, consider a situation where you need to read many files and then based on the contents of those files, fire off additional work.  You would like to read the files in parallel, and then within each file expose more parallelism.\n",
    "\n",
    "This example goes through three ways to handle this situation using [Dask Futures](https://docs.dask.org/en/latest/futures.html)\n",
    "\n",
    "1.  Using `as_completed`\n",
    "2.  Using `async/await`\n",
    "3.  Launching tasks from tasks\n",
    "\n",
    "But first, lets run our code sequentially."
   ]
  },
  {
   "cell_type": "markdown",
   "metadata": {},
   "source": [
    "0: Sequential code\n",
    "------------------"
   ]
  },
  {
   "cell_type": "code",
   "execution_count": 1,
   "metadata": {
    "execution": {
     "iopub.execute_input": "2020-11-05T10:59:25.644704Z",
     "iopub.status.busy": "2020-11-05T10:59:25.644167Z",
     "iopub.status.idle": "2020-11-05T10:59:25.654240Z",
     "shell.execute_reply": "2020-11-05T10:59:25.653751Z"
    }
   },
   "outputs": [
    {
     "data": {
      "text/plain": [
       "['file.0.txt', 'file.1.txt', 'file.2.txt']"
      ]
     },
     "execution_count": 1,
     "metadata": {},
     "output_type": "execute_result"
    }
   ],
   "source": [
    "filenames = [\"file.{}.txt\".format(i) for i in range(10)]\n",
    "\n",
    "filenames[:3]"
   ]
  },
  {
   "cell_type": "code",
   "execution_count": 2,
   "metadata": {
    "execution": {
     "iopub.execute_input": "2020-11-05T10:59:25.661560Z",
     "iopub.status.busy": "2020-11-05T10:59:25.659101Z",
     "iopub.status.idle": "2020-11-05T10:59:25.662069Z",
     "shell.execute_reply": "2020-11-05T10:59:25.662552Z"
    }
   },
   "outputs": [],
   "source": [
    "import random, time\n",
    "\n",
    "\n",
    "def parse_file(fn: str) -> list:\n",
    "    \"\"\" Returns a list work items of unknown length \"\"\"\n",
    "    time.sleep(random.random())\n",
    "    return [random.random() for _ in range(random.randint(1, 10))]\n",
    "\n",
    "def process_item(x: float):\n",
    "    \"\"\" Process each work item \"\"\"\n",
    "    time.sleep(random.random() / 4)\n",
    "    return x + 1"
   ]
  },
  {
   "cell_type": "code",
   "execution_count": 3,
   "metadata": {
    "execution": {
     "iopub.execute_input": "2020-11-05T10:59:25.666567Z",
     "iopub.status.busy": "2020-11-05T10:59:25.666086Z",
     "iopub.status.idle": "2020-11-05T10:59:38.471353Z",
     "shell.execute_reply": "2020-11-05T10:59:38.471768Z"
    }
   },
   "outputs": [
    {
     "name": "stdout",
     "output_type": "stream",
     "text": [
      "CPU times: user 8.58 ms, sys: 65 µs, total: 8.65 ms\n",
      "Wall time: 12.8 s\n"
     ]
    }
   ],
   "source": [
    "%%time\n",
    "\n",
    "# This takes around 10-20s\n",
    "\n",
    "results = []\n",
    "\n",
    "for fn in filenames:\n",
    "    L = parse_file(fn)\n",
    "    for x in L:\n",
    "        out = process_item(x)\n",
    "        results.append(out)"
   ]
  },
  {
   "cell_type": "markdown",
   "metadata": {},
   "source": [
    "Start Dask Client\n",
    "-----------------\n",
    "\n",
    "We'll need a Dask client in order to manage dynamic workloads"
   ]
  },
  {
   "cell_type": "code",
   "execution_count": 4,
   "metadata": {
    "execution": {
     "iopub.execute_input": "2020-11-05T10:59:38.477709Z",
     "iopub.status.busy": "2020-11-05T10:59:38.475908Z",
     "iopub.status.idle": "2020-11-05T10:59:39.488339Z",
     "shell.execute_reply": "2020-11-05T10:59:39.488882Z"
    }
   },
   "outputs": [
    {
     "data": {
      "text/html": [
       "<table style=\"border: 2px solid white;\">\n",
       "<tr>\n",
       "<td style=\"vertical-align: top; border: 0px solid white\">\n",
       "<h3 style=\"text-align: left;\">Client</h3>\n",
       "<ul style=\"text-align: left; list-style: none; margin: 0; padding: 0;\">\n",
       "  <li><b>Scheduler: </b>inproc://10.1.0.4/7035/1</li>\n",
       "  <li><b>Dashboard: </b><a href='http://10.1.0.4:8787/status' target='_blank'>http://10.1.0.4:8787/status</a></li>\n",
       "</ul>\n",
       "</td>\n",
       "<td style=\"vertical-align: top; border: 0px solid white\">\n",
       "<h3 style=\"text-align: left;\">Cluster</h3>\n",
       "<ul style=\"text-align: left; list-style:none; margin: 0; padding: 0;\">\n",
       "  <li><b>Workers: </b>1</li>\n",
       "  <li><b>Cores: </b>6</li>\n",
       "  <li><b>Memory: </b>7.29 GB</li>\n",
       "</ul>\n",
       "</td>\n",
       "</tr>\n",
       "</table>"
      ],
      "text/plain": [
       "<Client: 'inproc://10.1.0.4/7035/1' processes=1 threads=6, memory=7.29 GB>"
      ]
     },
     "execution_count": 1,
     "metadata": {},
     "output_type": "execute_result"
    }
   ],
   "source": [
    "from dask.distributed import Client\n",
    "\n",
    "client = Client(processes=False, n_workers=1, threads_per_worker=6)\n",
    "client"
   ]
  },
  {
   "cell_type": "markdown",
   "metadata": {},
   "source": [
    "1: Use as_completed\n",
    "-------------------\n",
    "\n",
    "The [as_completed](https://docs.dask.org/en/latest/futures.html#distributed.as_completed) iterator lets us handle futures as they complete.  We can then submit more data on the fly.\n",
    "\n",
    "-   We submit a task for each of our filenames\n",
    "-   We also compute the length of each of the returned lists\n",
    "-   As those lengths return, we submit off a new task to get each item of that list.  We do this at higher priority, so that we process existing data before we collect new data.\n",
    "-   We wait on all of the returned results"
   ]
  },
  {
   "cell_type": "code",
   "execution_count": 5,
   "metadata": {
    "execution": {
     "iopub.execute_input": "2020-11-05T10:59:39.498005Z",
     "iopub.status.busy": "2020-11-05T10:59:39.495106Z",
     "iopub.status.idle": "2020-11-05T10:59:41.711167Z",
     "shell.execute_reply": "2020-11-05T10:59:41.710726Z"
    }
   },
   "outputs": [
    {
     "name": "stdout",
     "output_type": "stream",
     "text": [
      "CPU times: user 271 ms, sys: 13.3 ms, total: 284 ms\n",
      "Wall time: 2.21 s\n"
     ]
    },
    {
     "data": {
      "text/plain": [
       "[1.8155073941743582,\n",
       " 1.1481593249285151,\n",
       " 1.5609626117190065,\n",
       " 1.8657574379474942,\n",
       " 1.947850152252406,\n",
       " 1.4613043889698023,\n",
       " 1.5605254896030707,\n",
       " 1.4100673436173627,\n",
       " 1.4253429493586802,\n",
       " 1.1565055219371816,\n",
       " 1.2179877818474842,\n",
       " 1.3970031257901652,\n",
       " 1.0966991825329528,\n",
       " 1.8593313617526341,\n",
       " 1.2280922078397152,\n",
       " 1.8630679490763309,\n",
       " 1.0720730562341467,\n",
       " 1.2046983630781845,\n",
       " 1.7541425508262907,\n",
       " 1.4414686239008252,\n",
       " 1.9242287574333643,\n",
       " 1.9198937325425907,\n",
       " 1.862518485418224,\n",
       " 1.5507260316013824,\n",
       " 1.1061833313950693,\n",
       " 1.8779186052595969,\n",
       " 1.5328233821626833,\n",
       " 1.4909598550978536,\n",
       " 1.7894687612352962,\n",
       " 1.8951311598287697,\n",
       " 1.6498412064345314,\n",
       " 1.2804394449483958,\n",
       " 1.56808404228066,\n",
       " 1.041126074782494,\n",
       " 1.6986519264036979,\n",
       " 1.322967520565875,\n",
       " 1.150863974460369,\n",
       " 1.5866436591788857,\n",
       " 1.7336163421724762,\n",
       " 1.914117637499643,\n",
       " 1.8061140705343197,\n",
       " 1.5988380070544712,\n",
       " 1.1326003956941468,\n",
       " 1.3499788189845403,\n",
       " 1.7028444523934838]"
      ]
     },
     "execution_count": 1,
     "metadata": {},
     "output_type": "execute_result"
    }
   ],
   "source": [
    "%%time\n",
    "\n",
    "from dask.distributed import as_completed\n",
    "import operator\n",
    "\n",
    "lists = client.map(parse_file, filenames, pure=False)\n",
    "lengths = client.map(len, lists)\n",
    "\n",
    "mapping = dict(zip(lengths, lists))\n",
    "\n",
    "futures = []\n",
    "\n",
    "for future in as_completed(lengths):\n",
    "    n = future.result()\n",
    "    L = mapping[future]\n",
    "    for i in range(n):\n",
    "        new = client.submit(operator.getitem, L, i, priority=1)\n",
    "        new = client.submit(process_item, new, priority=1)\n",
    "        futures.append(new)\n",
    "        \n",
    "client.gather(futures)"
   ]
  },
  {
   "cell_type": "markdown",
   "metadata": {},
   "source": [
    "2: Use async/await to handle single file processing locally\n",
    "-----------------------------------------------------------\n",
    "\n",
    "We can also handle the concurrency here within our local process.  This requires you to understand async/await syntax, but is generally powerful and arguably simpler than the `as_completed` approach above."
   ]
  },
  {
   "cell_type": "code",
   "execution_count": 6,
   "metadata": {
    "execution": {
     "iopub.execute_input": "2020-11-05T10:59:41.718367Z",
     "iopub.status.busy": "2020-11-05T10:59:41.716841Z",
     "iopub.status.idle": "2020-11-05T10:59:41.719032Z",
     "shell.execute_reply": "2020-11-05T10:59:41.719712Z"
    }
   },
   "outputs": [],
   "source": [
    "import asyncio\n",
    "\n",
    "async def f(fn):\n",
    "    \"\"\" Handle the lifecycle of a single file \"\"\"\n",
    "    future = client.submit(parse_file, fn, pure=False)\n",
    "    length_future = client.submit(len, future)\n",
    "    length = await length_future\n",
    "    \n",
    "    futures = [client.submit(operator.getitem, future, i, priority=10) \n",
    "               for i in range(length)]\n",
    "    futures = client.map(process_item, futures, priority=10)\n",
    "    return futures\n",
    "\n",
    "async def run_all(filenames):\n",
    "    list_of_list_of_futures = await asyncio.gather(*[f(fn) for fn in filenames])\n",
    "    futures = sum(list_of_list_of_futures, [])\n",
    "    return await client.gather(futures)\n"
   ]
  },
  {
   "cell_type": "markdown",
   "metadata": {},
   "source": [
    "We now need to run this function in the same event loop as our client is running.  If we had started our client asynchronously, then we could have done this:\n",
    "\n",
    "```python\n",
    "client = await Client(asynchronous=True)\n",
    "\n",
    "await run_all(filenames)\n",
    "```\n",
    "\n",
    "However, because we started our client without the `asynchronous=True` flag the event loop is actually running in a separate thread, so we'll have to ask the client to run this for us."
   ]
  },
  {
   "cell_type": "code",
   "execution_count": 7,
   "metadata": {
    "execution": {
     "iopub.execute_input": "2020-11-05T10:59:41.723403Z",
     "iopub.status.busy": "2020-11-05T10:59:41.722854Z",
     "iopub.status.idle": "2020-11-05T10:59:44.604170Z",
     "shell.execute_reply": "2020-11-05T10:59:44.603703Z"
    }
   },
   "outputs": [
    {
     "data": {
      "text/plain": [
       "[1.6317282842075067,\n",
       " 1.2257779719121342,\n",
       " 1.1868408879157752,\n",
       " 1.6203666812298643,\n",
       " 1.859958124909634,\n",
       " 1.5645482681986134,\n",
       " 1.4530441512670347,\n",
       " 1.142152134882239,\n",
       " 1.0620599068651622,\n",
       " 1.8364480223920343,\n",
       " 1.4070483183425764,\n",
       " 1.1283746174088929,\n",
       " 1.6010198407590044,\n",
       " 1.5445102152229542,\n",
       " 1.8965792883708295,\n",
       " 1.8988048682932543,\n",
       " 1.917686352820512,\n",
       " 1.8200425900504413,\n",
       " 1.8780545136891365,\n",
       " 1.55217229019881,\n",
       " 1.4367256905549803,\n",
       " 1.817055293530124,\n",
       " 1.9694295979597358,\n",
       " 1.5177645388016137,\n",
       " 1.6495941826437923,\n",
       " 1.2080520909067045,\n",
       " 1.3312667781395744,\n",
       " 1.9772272066587466,\n",
       " 1.9622905170149572,\n",
       " 1.41422312706948,\n",
       " 1.3879502786680509,\n",
       " 1.0152256150110557,\n",
       " 1.170782911922902,\n",
       " 1.2653476067937186,\n",
       " 1.4355007004165268,\n",
       " 1.616867903932536,\n",
       " 1.6594947393860107,\n",
       " 1.6504896607426829,\n",
       " 1.0249403043987213,\n",
       " 1.2613124495267125,\n",
       " 1.7248388224023459,\n",
       " 1.371917673167585,\n",
       " 1.5152175503126362,\n",
       " 1.180822531903298,\n",
       " 1.3728122394822782,\n",
       " 1.87819891306899,\n",
       " 1.7338100857464442,\n",
       " 1.3355735052927122,\n",
       " 1.8556143126873017,\n",
       " 1.9150505793482373,\n",
       " 1.4098438056630147,\n",
       " 1.6488240841059407,\n",
       " 1.4936234267755397,\n",
       " 1.2018280109384527,\n",
       " 1.3633647975280268,\n",
       " 1.6083397859552375,\n",
       " 1.3368034571409315,\n",
       " 1.0976509498828668,\n",
       " 1.7427840430798982,\n",
       " 1.196207343775482,\n",
       " 1.5668720580430073,\n",
       " 1.631417398608212,\n",
       " 1.326156756395132,\n",
       " 1.4996085580746472,\n",
       " 1.386258672952592]"
      ]
     },
     "execution_count": 1,
     "metadata": {},
     "output_type": "execute_result"
    }
   ],
   "source": [
    "client.sync(run_all, filenames)"
   ]
  },
  {
   "cell_type": "markdown",
   "metadata": {},
   "source": [
    "3: Submit tasks from tasks\n",
    "--------------------------\n",
    "\n",
    "We can also submit tasks that themselves submit more tasks.  See [documentation here](https://docs.dask.org/en/latest/futures.html#submit-tasks-from-tasks)."
   ]
  },
  {
   "cell_type": "code",
   "execution_count": 8,
   "metadata": {
    "execution": {
     "iopub.execute_input": "2020-11-05T10:59:44.609354Z",
     "iopub.status.busy": "2020-11-05T10:59:44.608850Z",
     "iopub.status.idle": "2020-11-05T10:59:47.247265Z",
     "shell.execute_reply": "2020-11-05T10:59:47.247668Z"
    }
   },
   "outputs": [
    {
     "name": "stdout",
     "output_type": "stream",
     "text": [
      "CPU times: user 219 ms, sys: 39.8 ms, total: 259 ms\n",
      "Wall time: 2.64 s\n"
     ]
    }
   ],
   "source": [
    "%%time\n",
    "\n",
    "from dask.distributed import get_client, secede, rejoin\n",
    "\n",
    "def f(fn):\n",
    "    L = parse_file(fn)\n",
    "    client = get_client()\n",
    "    \n",
    "    futures = client.map(process_item, L, priority=10)\n",
    "    secede()\n",
    "    results = client.gather(futures)\n",
    "    rejoin()\n",
    "    return results\n",
    "\n",
    "futures = client.map(f, filenames, pure=False)\n",
    "results = client.gather(futures)"
   ]
  }
 ],
 "metadata": {
  "kernelspec": {
   "display_name": "Python 3",
   "language": "python",
   "name": "python3"
  },
  "language_info": {
   "codemirror_mode": {
    "name": "ipython",
    "version": 3
   },
   "file_extension": ".py",
   "mimetype": "text/x-python",
   "name": "python",
   "nbconvert_exporter": "python",
   "pygments_lexer": "ipython3",
   "version": "3.8.6"
  }
 },
 "nbformat": 4,
 "nbformat_minor": 4
}
